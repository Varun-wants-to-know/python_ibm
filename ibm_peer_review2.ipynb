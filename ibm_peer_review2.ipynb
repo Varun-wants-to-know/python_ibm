{
 "cells": [
  {
   "cell_type": "markdown",
   "metadata": {},
   "source": [
    "---\n",
    "author: \"h/i\"\n",
    "title: **IBM peer 1*\n",
    "---\n",
    "\n",
    "* Hi\n",
    "* Hello\n",
    "\n",
    "\n",
    "# my anime Fav sites\n",
    "* [zoro.to](https://zoro.to/home)\n",
    "* [kickassanime](https://kickassanime.rs)\n",
    "* [animekisa](https://animekisa.cc)\n",
    "\n",
    "\n",
    "![Koro Sensei](https://static2.srcdn.com/wordpress/wp-content/uploads/2021/02/korosensei-assassination-classroom.jpg?q=50&fit=crop&w=963&h=481&dpr=1.5)\n",
    "![eyeballing](https://c.tenor.com/UT_vaglUuaAAAAAC/koro-sensei-anjan-lumayan-suranto.gif)"
   ]
  },
  {
   "cell_type": "code",
   "execution_count": 11,
   "metadata": {},
   "outputs": [
    {
     "data": {
      "text/plain": [
       "'Factorial of 4 is 24'"
      ]
     },
     "execution_count": 11,
     "metadata": {},
     "output_type": "execute_result"
    }
   ],
   "source": [
    "def factorial(x):\n",
    "    x=int(x)\n",
    "    j=1\n",
    "    for i in range(x,0,-1):\n",
    "        if x>0:\n",
    "            j=j*i\n",
    "        elif x==0:\n",
    "            j=j*1\n",
    "    return f'Factorial of {x}! is {j}' \n",
    "factorial(4)"
   ]
  }
 ],
 "metadata": {
  "interpreter": {
   "hash": "bf08d996b5751fcab9c975ec2de391a70359a82588dccc1ba32eee93b0db0ea9"
  },
  "kernelspec": {
   "display_name": "Python 3.9.7 64-bit ('sisl': conda)",
   "language": "python",
   "name": "python3"
  },
  "language_info": {
   "codemirror_mode": {
    "name": "ipython",
    "version": 3
   },
   "file_extension": ".py",
   "mimetype": "text/x-python",
   "name": "python",
   "nbconvert_exporter": "python",
   "pygments_lexer": "ipython3",
   "version": "3.9.7"
  },
  "orig_nbformat": 4
 },
 "nbformat": 4,
 "nbformat_minor": 2
}
